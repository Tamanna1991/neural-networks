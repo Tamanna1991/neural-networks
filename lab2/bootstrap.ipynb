{
  "nbformat": 4,
  "nbformat_minor": 0,
  "metadata": {
    "colab": {
      "name": "bootstrap.ipynb",
      "provenance": [],
      "include_colab_link": true
    },
    "kernelspec": {
      "display_name": "Python 3",
      "language": "python",
      "name": "python3"
    },
    "language_info": {
      "codemirror_mode": {
        "name": "ipython",
        "version": 3
      },
      "file_extension": ".py",
      "mimetype": "text/x-python",
      "name": "python",
      "nbconvert_exporter": "python",
      "pygments_lexer": "ipython3",
      "version": "3.7.6"
    },
    "pycharm": {
      "stem_cell": {
        "cell_type": "raw",
        "metadata": {
          "collapsed": false
        },
        "source": []
      }
    }
  },
  "cells": [
    {
      "cell_type": "markdown",
      "metadata": {
        "id": "view-in-github",
        "colab_type": "text"
      },
      "source": [
        "<a href=\"https://colab.research.google.com/github/Tamanna1991/neural-networks/blob/main/lab2/bootstrap.ipynb\" target=\"_parent\"><img src=\"https://colab.research.google.com/assets/colab-badge.svg\" alt=\"Open In Colab\"/></a>"
      ]
    },
    {
      "cell_type": "markdown",
      "metadata": {
        "id": "nCi_99yMYIb1"
      },
      "source": [
        "In this notebook you'll create your own bootstrap function following the bootstrap algorithm (check the lecture notes!)"
      ]
    },
    {
      "cell_type": "code",
      "metadata": {
        "id": "LY5zujI2YC37",
        "pycharm": {
          "name": "#%%# Imports\n"
        }
      },
      "source": [
        "import matplotlib\n",
        "import pandas as pd\n",
        "import seaborn as sns\n",
        "import numpy as np\n",
        "\n"
      ],
      "execution_count": 1,
      "outputs": []
    },
    {
      "cell_type": "code",
      "metadata": {
        "id": "Eqkwj4SMY38t"
      },
      "source": [
        "# Load the data\n",
        "df = pd.read_csv('https://raw.githubusercontent.com/albanda/CE888/master/lab2%20-%20bootstrap/customers.csv')\n",
        "data = df.values.T[1]"
      ],
      "execution_count": null,
      "outputs": []
    },
    {
      "cell_type": "code",
      "metadata": {
        "id": "Gxvc_bScYC4H",
        "pycharm": {
          "name": "#%%\n"
        }
      },
      "source": [
        "# Checking the notes from the lecture, create here your own bootstrap function:\n",
        "# 1. Sample from the input array x to create an array of samples of shape (n_bootstraps, sample_size)\n",
        "# Hint: Check the function random.choice() on Numpy\n",
        "# 2. Calculate and save the mean of the array (this is \"data_mean\" that is returned by the function)\n",
        "# 3. Calculate the mean from each bootstrap (i.e., row) and store it.\n",
        "# (This should be an array of n_bootstraps values)\n",
        "# 4. Calculate the lower and upper bounds for a 95% CI (hint: check the percentile function on Numpy)\n",
        "# 5. Return data_mean, and the lower and upper bounds of your interval\n",
        "def bootstrap_mean(x, sample_size, n_bootstraps):\n",
        "\t# <---INSERT YOUR CODE HERE--->\n",
        "\t\n",
        "\treturn data_mean, lower, upper\n"
      ],
      "execution_count": 5,
      "outputs": []
    },
    {
      "cell_type": "code",
      "metadata": {
        "pycharm": {
          "name": "#%%\n"
        },
        "id": "9k9TOjwWAEEb"
      },
      "source": [
        "# Checking the notes from the lecture, create here your own bootstrap function:\n",
        "# 1. Sample from the input array x to create an array of samples of shape (n_bootstraps, sample_size)\n",
        "# Hint: Check the function random.choice() on Numpy\n",
        "# 2. Calculate and save the mean of the array (this is \"data_mean\" that is returned by the function)\n",
        "# 3. Calculate the mean from each bootstrap (i.e., row) and store it.\n",
        "# (This should be an array of n_bootstraps values)\n",
        "# 4. Calculate the lower and upper bounds for a 95% CI (hint: check the percentile function on Numpy)\n",
        "# 5. Return data_mean, and the lower and upper bounds of your interval\n",
        "def bootstrap_mean(x, sample_size, n_bootstraps):\n",
        "\t# <---INSERT YOUR CODE HERE--->\n",
        "  tmp_arr = np.random.choice(x, (n_bootstraps, sample_size))\n",
        "  data_mean = np.mean(tmp_arr)\n",
        "  means_of_each_row = np.zeros(n_bootstraps)\n",
        "  for i in range(n_bootstraps):\n",
        "    means_of_each_row[i] = np.mean(tmp_arr[i, :])\n",
        "  lower = np.percentile(means_of_each_row, 2.5)\n",
        "  upper = np.percentile(means_of_each_row, 97.5)\n",
        "  return data_mean, lower, upper\n"
      ],
      "execution_count": 6,
      "outputs": []
    },
    {
      "cell_type": "code",
      "metadata": {
        "id": "AN7sEOcMYC4P",
        "pycharm": {
          "name": "#%%\n"
        },
        "outputId": "7aa4361c-9765-4f30-b757-bdf3091d56ad",
        "colab": {
          "base_uri": "https://localhost:8080/",
          "height": 235
        }
      },
      "source": [
        "# Call your bootstrap function and plot the results\n",
        "\n",
        "boots = []\n",
        "for i in range(100, 50000, 1000):\n",
        "    boot = bootstrap_mean(data, data.shape[0], i)\n",
        "    boots.append([i, boot[0], \"mean\"])\n",
        "    boots.append([i, boot[1], \"lower\"])\n",
        "    boots.append([i, boot[2], \"upper\"])\n",
        "\n",
        "df_boot = pd.DataFrame(boots, columns=['Bootstrap Iterations', 'Mean', \"Value\"])\n",
        "sns_plot = sns.lmplot(df_boot.columns[0], df_boot.columns[1], data=df_boot, fit_reg=False, hue=\"Value\")\n",
        "\n",
        "sns_plot.axes[0, 0].set_ylim(0,)\n",
        "sns_plot.axes[0, 0].set_xlim(0, 50000)\n",
        "\n"
      ],
      "execution_count": 7,
      "outputs": [
        {
          "output_type": "error",
          "ename": "NameError",
          "evalue": "ignored",
          "traceback": [
            "\u001b[0;31m---------------------------------------------------------------------------\u001b[0m",
            "\u001b[0;31mNameError\u001b[0m                                 Traceback (most recent call last)",
            "\u001b[0;32m<ipython-input-7-bb1f0af8ef50>\u001b[0m in \u001b[0;36m<module>\u001b[0;34m()\u001b[0m\n\u001b[1;32m      3\u001b[0m \u001b[0mboots\u001b[0m \u001b[0;34m=\u001b[0m \u001b[0;34m[\u001b[0m\u001b[0;34m]\u001b[0m\u001b[0;34m\u001b[0m\u001b[0;34m\u001b[0m\u001b[0m\n\u001b[1;32m      4\u001b[0m \u001b[0;32mfor\u001b[0m \u001b[0mi\u001b[0m \u001b[0;32min\u001b[0m \u001b[0mrange\u001b[0m\u001b[0;34m(\u001b[0m\u001b[0;36m100\u001b[0m\u001b[0;34m,\u001b[0m \u001b[0;36m50000\u001b[0m\u001b[0;34m,\u001b[0m \u001b[0;36m1000\u001b[0m\u001b[0;34m)\u001b[0m\u001b[0;34m:\u001b[0m\u001b[0;34m\u001b[0m\u001b[0;34m\u001b[0m\u001b[0m\n\u001b[0;32m----> 5\u001b[0;31m     \u001b[0mboot\u001b[0m \u001b[0;34m=\u001b[0m \u001b[0mbootstrap_mean\u001b[0m\u001b[0;34m(\u001b[0m\u001b[0mdata\u001b[0m\u001b[0;34m,\u001b[0m \u001b[0mdata\u001b[0m\u001b[0;34m.\u001b[0m\u001b[0mshape\u001b[0m\u001b[0;34m[\u001b[0m\u001b[0;36m0\u001b[0m\u001b[0;34m]\u001b[0m\u001b[0;34m,\u001b[0m \u001b[0mi\u001b[0m\u001b[0;34m)\u001b[0m\u001b[0;34m\u001b[0m\u001b[0;34m\u001b[0m\u001b[0m\n\u001b[0m\u001b[1;32m      6\u001b[0m     \u001b[0mboots\u001b[0m\u001b[0;34m.\u001b[0m\u001b[0mappend\u001b[0m\u001b[0;34m(\u001b[0m\u001b[0;34m[\u001b[0m\u001b[0mi\u001b[0m\u001b[0;34m,\u001b[0m \u001b[0mboot\u001b[0m\u001b[0;34m[\u001b[0m\u001b[0;36m0\u001b[0m\u001b[0;34m]\u001b[0m\u001b[0;34m,\u001b[0m \u001b[0;34m\"mean\"\u001b[0m\u001b[0;34m]\u001b[0m\u001b[0;34m)\u001b[0m\u001b[0;34m\u001b[0m\u001b[0;34m\u001b[0m\u001b[0m\n\u001b[1;32m      7\u001b[0m     \u001b[0mboots\u001b[0m\u001b[0;34m.\u001b[0m\u001b[0mappend\u001b[0m\u001b[0;34m(\u001b[0m\u001b[0;34m[\u001b[0m\u001b[0mi\u001b[0m\u001b[0;34m,\u001b[0m \u001b[0mboot\u001b[0m\u001b[0;34m[\u001b[0m\u001b[0;36m1\u001b[0m\u001b[0;34m]\u001b[0m\u001b[0;34m,\u001b[0m \u001b[0;34m\"lower\"\u001b[0m\u001b[0;34m]\u001b[0m\u001b[0;34m)\u001b[0m\u001b[0;34m\u001b[0m\u001b[0;34m\u001b[0m\u001b[0m\n",
            "\u001b[0;31mNameError\u001b[0m: name 'data' is not defined"
          ]
        }
      ]
    },
    {
      "cell_type": "code",
      "metadata": {
        "pycharm": {
          "name": "#%%\n"
        },
        "colab": {
          "base_uri": "https://localhost:8080/",
          "height": 235
        },
        "outputId": "f365635e-ff67-44a2-c51b-6d8312127f93",
        "id": "cWS-7fe8ATb2"
      },
      "source": [
        "# Call your bootstrap function and plot the results\n",
        "\n",
        "boots = []\n",
        "for i in range(100, 50000, 1000): #Guannan : range(start, stop, step)\n",
        "    boot = bootstrap_mean(data, data.shape[0], i)\n",
        "    boots.append([i, boot[0], \"mean\"])\n",
        "    boots.append([i, boot[1], \"lower\"])\n",
        "    boots.append([i, boot[2], \"upper\"])\n",
        "\n",
        "df_boot = pd.DataFrame(boots, columns=['Bootstrap Iterations', 'Mean', \"Value\"])\n",
        "sns_plot = sns.lmplot(df_boot.columns[0], df_boot.columns[1], data=df_boot, fit_reg=False, hue=\"Value\")\n",
        "\n",
        "sns_plot.axes[0, 0].set_ylim(0,)\n",
        "sns_plot.axes[0, 0].set_xlim(0, 100000)\n"
      ],
      "execution_count": 8,
      "outputs": [
        {
          "output_type": "error",
          "ename": "NameError",
          "evalue": "ignored",
          "traceback": [
            "\u001b[0;31m---------------------------------------------------------------------------\u001b[0m",
            "\u001b[0;31mNameError\u001b[0m                                 Traceback (most recent call last)",
            "\u001b[0;32m<ipython-input-8-950392956f1b>\u001b[0m in \u001b[0;36m<module>\u001b[0;34m()\u001b[0m\n\u001b[1;32m      3\u001b[0m \u001b[0mboots\u001b[0m \u001b[0;34m=\u001b[0m \u001b[0;34m[\u001b[0m\u001b[0;34m]\u001b[0m\u001b[0;34m\u001b[0m\u001b[0;34m\u001b[0m\u001b[0m\n\u001b[1;32m      4\u001b[0m \u001b[0;32mfor\u001b[0m \u001b[0mi\u001b[0m \u001b[0;32min\u001b[0m \u001b[0mrange\u001b[0m\u001b[0;34m(\u001b[0m\u001b[0;36m100\u001b[0m\u001b[0;34m,\u001b[0m \u001b[0;36m50000\u001b[0m\u001b[0;34m,\u001b[0m \u001b[0;36m1000\u001b[0m\u001b[0;34m)\u001b[0m\u001b[0;34m:\u001b[0m \u001b[0;31m#Guannan : range(start, stop, step)\u001b[0m\u001b[0;34m\u001b[0m\u001b[0;34m\u001b[0m\u001b[0m\n\u001b[0;32m----> 5\u001b[0;31m     \u001b[0mboot\u001b[0m \u001b[0;34m=\u001b[0m \u001b[0mbootstrap_mean\u001b[0m\u001b[0;34m(\u001b[0m\u001b[0mdata\u001b[0m\u001b[0;34m,\u001b[0m \u001b[0mdata\u001b[0m\u001b[0;34m.\u001b[0m\u001b[0mshape\u001b[0m\u001b[0;34m[\u001b[0m\u001b[0;36m0\u001b[0m\u001b[0;34m]\u001b[0m\u001b[0;34m,\u001b[0m \u001b[0mi\u001b[0m\u001b[0;34m)\u001b[0m\u001b[0;34m\u001b[0m\u001b[0;34m\u001b[0m\u001b[0m\n\u001b[0m\u001b[1;32m      6\u001b[0m     \u001b[0mboots\u001b[0m\u001b[0;34m.\u001b[0m\u001b[0mappend\u001b[0m\u001b[0;34m(\u001b[0m\u001b[0;34m[\u001b[0m\u001b[0mi\u001b[0m\u001b[0;34m,\u001b[0m \u001b[0mboot\u001b[0m\u001b[0;34m[\u001b[0m\u001b[0;36m0\u001b[0m\u001b[0;34m]\u001b[0m\u001b[0;34m,\u001b[0m \u001b[0;34m\"mean\"\u001b[0m\u001b[0;34m]\u001b[0m\u001b[0;34m)\u001b[0m\u001b[0;34m\u001b[0m\u001b[0;34m\u001b[0m\u001b[0m\n\u001b[1;32m      7\u001b[0m     \u001b[0mboots\u001b[0m\u001b[0;34m.\u001b[0m\u001b[0mappend\u001b[0m\u001b[0;34m(\u001b[0m\u001b[0;34m[\u001b[0m\u001b[0mi\u001b[0m\u001b[0;34m,\u001b[0m \u001b[0mboot\u001b[0m\u001b[0;34m[\u001b[0m\u001b[0;36m1\u001b[0m\u001b[0;34m]\u001b[0m\u001b[0;34m,\u001b[0m \u001b[0;34m\"lower\"\u001b[0m\u001b[0;34m]\u001b[0m\u001b[0;34m)\u001b[0m\u001b[0;34m\u001b[0m\u001b[0;34m\u001b[0m\u001b[0m\n",
            "\u001b[0;31mNameError\u001b[0m: name 'data' is not defined"
          ]
        }
      ]
    },
    {
      "cell_type": "markdown",
      "metadata": {
        "id": "MjtP4e2_YC4V"
      },
      "source": [
        "\n",
        "Now, modify the bootstrap function you created above so that you can pass your desired confidence interval as a parameter.\n",
        "\n"
      ]
    },
    {
      "cell_type": "code",
      "metadata": {
        "id": "3K9j0FuGYhHs"
      },
      "source": [
        "def bootstrap_mean_ci(sample, sample_size, n_bootstraps, ci):\n",
        "\t# <---INSERT YOUR CODE HERE--->\n",
        "\treturn data_mean, lower, upper"
      ],
      "execution_count": 13,
      "outputs": []
    },
    {
      "cell_type": "code",
      "metadata": {
        "id": "uDnjq08GYl-C",
        "outputId": "53d37677-cf35-4550-c0b7-ff9c6bf1ea17",
        "colab": {
          "base_uri": "https://localhost:8080/",
          "height": 235
        }
      },
      "source": [
        "boots = []\n",
        "for i in range(100, 50000, 1000):\n",
        "    boot = bootstrap_mean_ci(data, data.shape[0], i, 80)\n",
        "    boots.append([i, boot[0], \"mean\"])\n",
        "    boots.append([i, boot[1], \"lower\"])\n",
        "    boots.append([i, boot[2], \"upper\"])\n",
        "\n",
        "df_boot = pd.DataFrame(boots, columns=['Boostrap Iterations', 'Mean', \"Value\"])\n",
        "sns_plot = sns.lmplot(df_boot.columns[0], df_boot.columns[1], data=df_boot, fit_reg=False, hue=\"Value\")\n",
        "\n",
        "sns_plot.axes[0, 0].set_ylim(0,)\n",
        "sns_plot.axes[0, 0].set_xlim(0, 50000)\n",
        "\n",
        "#sns_plot.savefig(\"bootstrap_confidence_80.pdf\", bbox_inches='tight')\n"
      ],
      "execution_count": 9,
      "outputs": [
        {
          "output_type": "error",
          "ename": "NameError",
          "evalue": "ignored",
          "traceback": [
            "\u001b[0;31m---------------------------------------------------------------------------\u001b[0m",
            "\u001b[0;31mNameError\u001b[0m                                 Traceback (most recent call last)",
            "\u001b[0;32m<ipython-input-9-b22df57fbb43>\u001b[0m in \u001b[0;36m<module>\u001b[0;34m()\u001b[0m\n\u001b[1;32m      1\u001b[0m \u001b[0mboots\u001b[0m \u001b[0;34m=\u001b[0m \u001b[0;34m[\u001b[0m\u001b[0;34m]\u001b[0m\u001b[0;34m\u001b[0m\u001b[0;34m\u001b[0m\u001b[0m\n\u001b[1;32m      2\u001b[0m \u001b[0;32mfor\u001b[0m \u001b[0mi\u001b[0m \u001b[0;32min\u001b[0m \u001b[0mrange\u001b[0m\u001b[0;34m(\u001b[0m\u001b[0;36m100\u001b[0m\u001b[0;34m,\u001b[0m \u001b[0;36m50000\u001b[0m\u001b[0;34m,\u001b[0m \u001b[0;36m1000\u001b[0m\u001b[0;34m)\u001b[0m\u001b[0;34m:\u001b[0m\u001b[0;34m\u001b[0m\u001b[0;34m\u001b[0m\u001b[0m\n\u001b[0;32m----> 3\u001b[0;31m     \u001b[0mboot\u001b[0m \u001b[0;34m=\u001b[0m \u001b[0mbootstrap_mean_ci\u001b[0m\u001b[0;34m(\u001b[0m\u001b[0mdata\u001b[0m\u001b[0;34m,\u001b[0m \u001b[0mdata\u001b[0m\u001b[0;34m.\u001b[0m\u001b[0mshape\u001b[0m\u001b[0;34m[\u001b[0m\u001b[0;36m0\u001b[0m\u001b[0;34m]\u001b[0m\u001b[0;34m,\u001b[0m \u001b[0mi\u001b[0m\u001b[0;34m,\u001b[0m \u001b[0;36m80\u001b[0m\u001b[0;34m)\u001b[0m\u001b[0;34m\u001b[0m\u001b[0;34m\u001b[0m\u001b[0m\n\u001b[0m\u001b[1;32m      4\u001b[0m     \u001b[0mboots\u001b[0m\u001b[0;34m.\u001b[0m\u001b[0mappend\u001b[0m\u001b[0;34m(\u001b[0m\u001b[0;34m[\u001b[0m\u001b[0mi\u001b[0m\u001b[0;34m,\u001b[0m \u001b[0mboot\u001b[0m\u001b[0;34m[\u001b[0m\u001b[0;36m0\u001b[0m\u001b[0;34m]\u001b[0m\u001b[0;34m,\u001b[0m \u001b[0;34m\"mean\"\u001b[0m\u001b[0;34m]\u001b[0m\u001b[0;34m)\u001b[0m\u001b[0;34m\u001b[0m\u001b[0;34m\u001b[0m\u001b[0m\n\u001b[1;32m      5\u001b[0m     \u001b[0mboots\u001b[0m\u001b[0;34m.\u001b[0m\u001b[0mappend\u001b[0m\u001b[0;34m(\u001b[0m\u001b[0;34m[\u001b[0m\u001b[0mi\u001b[0m\u001b[0;34m,\u001b[0m \u001b[0mboot\u001b[0m\u001b[0;34m[\u001b[0m\u001b[0;36m1\u001b[0m\u001b[0;34m]\u001b[0m\u001b[0;34m,\u001b[0m \u001b[0;34m\"lower\"\u001b[0m\u001b[0;34m]\u001b[0m\u001b[0;34m)\u001b[0m\u001b[0;34m\u001b[0m\u001b[0;34m\u001b[0m\u001b[0m\n",
            "\u001b[0;31mNameError\u001b[0m: name 'data' is not defined"
          ]
        }
      ]
    },
    {
      "cell_type": "code",
      "source": [
        ""
      ],
      "metadata": {
        "id": "zVRVGDvaBozF"
      },
      "execution_count": null,
      "outputs": []
    },
    {
      "cell_type": "code",
      "metadata": {
        "id": "erFDNXnIBpXb"
      },
      "source": [
        "def bootstrap_mean_ci(sample, sample_size, n_bootstraps, ci):\n",
        "\t# <---INSERT YOUR CODE HERE--->\n",
        "  tmp_arr = np.random.choice(sample, (n_bootstraps, sample_size))\n",
        "  data_mean = np.mean(tmp_arr)\n",
        "  means_of_each_row = np.zeros(n_bootstraps)\n",
        "  for counter in range(n_bootstraps):\n",
        "    means_of_each_row[counter] = np.mean(tmp_arr[counter, :])\n",
        "  lower = np.percentile(means_of_each_row, (100 - ci) / 2)\n",
        "  upper = np.percentile(means_of_each_row, 100 - (100 - ci) / 2)\n",
        "  return data_mean, lower, upper\n",
        "\n",
        "def bootstrap_std_ci(sample, sample_size, n_bootstraps, ci): #bootstrap standard deviation confidence interval\n",
        "  tmp_arr = np.random.choice(sample, (n_bootstraps, sample_size))\n",
        "  data_std = np.std(tmp_arr)\n",
        "  std_of_each_row = np.zeros(n_bootstraps)\n",
        "  for counter in range(n_bootstraps):\n",
        "    std_of_each_row[counter] = np.std(tmp_arr[counter, :])\n",
        "  lower = np.percentile(std_of_each_row, (100 - ci) / 2)\n",
        "  upper = np.percentile(std_of_each_row, 100 - (100 - ci) / 2)\n",
        "  return data_std, lower, upper"
      ],
      "execution_count": 14,
      "outputs": []
    },
    {
      "cell_type": "markdown",
      "metadata": {
        "id": "qjNgXW6wdd7r"
      },
      "source": [
        "# Vehicles dataset\n",
        "\n",
        "Now let's work on a different dataset, which is stored in the vehicles.csv file.\n"
      ]
    },
    {
      "cell_type": "code",
      "metadata": {
        "id": "avWv4ipFdpka"
      },
      "source": [
        "# Load and visualise the vehicles dataset\n",
        "# To load the dataset: https://neptune.ai/blog/google-colab-dealing-with-files (check section \"Load individual files directly from GitHub\")\n",
        "\n",
        "\n",
        "# Note that the current and new fleets are in different columns and have different lengths, so bear this in mind when you're plotting.\n",
        "# You can create separate scatterplots for the two fleets, as you would with the histograms, \n",
        "# or plot them both in one plot (but not one against the other).\n",
        "# <---INSERT YOUR CODE HERE--->\n",
        "# Note: you can add more cells as needed to organise your code and your plots\n"
      ],
      "execution_count": null,
      "outputs": []
    },
    {
      "cell_type": "markdown",
      "metadata": {
        "id": "B5d0tXDpIEj8"
      },
      "source": [
        "## Compare the two fleets\n",
        "\n",
        "The business analysts come up a comparison algorithm that requires the upper and lower bounds for the mean in order to say which fleet is better.\n",
        "1. Calculate the mean of both samples.\n",
        "2. Using the bootstrap function that you created:\n",
        "    - Construct the 95% CI of the mean of the current fleet.\n",
        "    - Construct the 95% CI of the mean of the new fleet.\n",
        "    - Are they comparable? (i.e., is one better than the other?) -- you can do this with a permutation test (check the lecture notes!)"
      ]
    },
    {
      "cell_type": "code",
      "metadata": {
        "id": "po4mp6zRHC0m"
      },
      "source": [
        "# <---INSERT YOUR CODE HERE--->\n"
      ],
      "execution_count": null,
      "outputs": []
    },
    {
      "cell_type": "code",
      "metadata": {
        "id": "8UsvEwpWAsgb"
      },
      "source": [
        "# Load and visualise the vehicles dataset\n",
        "# To load the dataset: https://neptune.ai/blog/google-colab-dealing-with-files (check section \"Load individual files directly from GitHub\")\n",
        "\n",
        "\n",
        "# Note that the current and new fleets are in different columns and have different lengths, so bear this in mind when you're plotting.\n",
        "# You can create separate scatterplots for the two fleets, as you would with the histograms, \n",
        "# or plot them both in one plot (but not one against the other).\n",
        "# <---INSERT YOUR CODE HERE--->\n",
        "# Note: you can add more cells as needed to organise your code and your plots\n",
        "df2 = pd.read_csv('https://raw.githubusercontent.com/albanda/CE888/master/lab2%20-%20bootstrap/vehicles.csv')\n",
        "df3 = pd.read_csv('https://raw.githubusercontent.com/albanda/CE888/master/lab2%20-%20bootstrap/customers.csv')\n",
        "current_fleets_data = df2.values.T[0] \n",
        "new_fleets_data = df2.values.T[1] \n",
        "new_fleets_data = new_fleets_data[~np.isnan(new_fleets_data)]\n",
        "customers_data = df3.values.T[1]\n"
      ],
      "execution_count": 10,
      "outputs": []
    },
    {
      "cell_type": "code",
      "source": [
        ""
      ],
      "metadata": {
        "id": "GNxRGfKDDd5T"
      },
      "execution_count": null,
      "outputs": []
    },
    {
      "cell_type": "code",
      "metadata": {
        "colab": {
          "base_uri": "https://localhost:8080/"
        },
        "outputId": "a334907f-84ad-4827-c1f4-145b8b337c42",
        "id": "e-Ma1xqsDj8v"
      },
      "source": [
        "# <---INSERT YOUR CODE HERE--->\n",
        "# 1. mean:\n",
        "current_fleets_data_mean = np.mean(current_fleets_data)\n",
        "print('current fleets data mean:' , current_fleets_data_mean)\n",
        "new_fleets_data_mean = np.mean(new_fleets_data)\n",
        "print('new_fleets_data_mean:' , new_fleets_data_mean)\n",
        "\n",
        "# 2. the 95% CI of the mean of the current fleet:\n",
        "# 3. the 95% CI of the mean of the new fleet.\n"
      ],
      "execution_count": 20,
      "outputs": [
        {
          "output_type": "stream",
          "name": "stdout",
          "text": [
            "current fleets data mean: 20.14457831325301\n",
            "new_fleets_data_mean: 30.481012658227847\n"
          ]
        }
      ]
    },
    {
      "cell_type": "code",
      "source": [
        ""
      ],
      "metadata": {
        "id": "qlhksrbwDmIe"
      },
      "execution_count": null,
      "outputs": []
    },
    {
      "cell_type": "code",
      "metadata": {
        "id": "k2gUHVAqDsMw"
      },
      "source": [
        "# Create your own function for a permutation test here (you will need it for the lab quiz!):\n",
        "def permut_test(sample1, sample2, n_permutations):\n",
        "    \"\"\"\n",
        "    sample1: 1D array\n",
        "    sample2: 1D array (note that the size of the two arrays can be different)\n",
        "    n_permutations: number of permutations to calculate the p-value\n",
        "    \"\"\"\n",
        "    #sample1 = sample1[~np.isnan(sample1)]\n",
        "    #sample2 = sample2[~np.isnan(sample2)]\n",
        "    no_tperm_lager_than_tobs = 0\n",
        "    #tobs = np.mean(sample2)-np.mean(sample1) # is this better?: tobs = np.abs(np.abs(np.mean(sample2))-np.abs(np.mean(sample1)))\n",
        "    tobs = np.abs(np.abs(np.mean(sample2))-np.abs(np.mean(sample1)))\n",
        "    for j in range(n_permutations):\n",
        "      concat = np.concatenate((sample1, sample2))\n",
        "      perm = np.random.permutation(concat)\n",
        "      pold = perm[:int(len(perm) / 2)]\n",
        "      pnew = perm[int(len(perm) / 2):]\n",
        "      tperm = np.mean(pnew)-np.mean(pold)\n",
        "      if tperm > tobs:\n",
        "        no_tperm_lager_than_tobs += 1\n",
        "    pvalue = no_tperm_lager_than_tobs/n_permutations\n",
        "    return pvalue"
      ],
      "execution_count": 21,
      "outputs": []
    },
    {
      "cell_type": "code",
      "source": [
        ""
      ],
      "metadata": {
        "id": "LRYo-Zn1AzaP"
      },
      "execution_count": null,
      "outputs": []
    },
    {
      "cell_type": "code",
      "metadata": {
        "colab": {
          "base_uri": "https://localhost:8080/"
        },
        "id": "rpz4bosU0iA7",
        "outputId": "124b2313-48a7-4672-aea1-3b9c7108fb34"
      },
      "source": [
        "permut_test(new_fleets_data, current_fleets_data, 20000)\n"
      ],
      "execution_count": 27,
      "outputs": [
        {
          "output_type": "execute_result",
          "data": {
            "text/plain": [
              "0.0"
            ]
          },
          "metadata": {},
          "execution_count": 27
        }
      ]
    },
    {
      "cell_type": "code",
      "source": [
        ""
      ],
      "metadata": {
        "id": "P03tm5NqEZKE"
      },
      "execution_count": null,
      "outputs": []
    },
    {
      "cell_type": "code",
      "metadata": {
        "colab": {
          "base_uri": "https://localhost:8080/"
        },
        "id": "FWi-lS4yMOJg",
        "outputId": "5e291e89-57cf-40ed-910a-b70c3f12b93e"
      },
      "source": [
        "permut_test(dem_share_PA,dem_share_OH,20000)"
      ],
      "execution_count": 28,
      "outputs": [
        {
          "output_type": "execute_result",
          "data": {
            "text/plain": [
              "0.2349"
            ]
          },
          "metadata": {},
          "execution_count": 28
        }
      ]
    },
    {
      "cell_type": "code",
      "metadata": {
        "colab": {
          "base_uri": "https://localhost:8080/"
        },
        "id": "ucU-e9I54rax",
        "outputId": "6164214c-ade1-4001-b83d-b8561e32d3b1"
      },
      "source": [
        "\n",
        "new_fleets_data[~np.isnan(new_fleets_data)]\n",
        "np.mean(new_fleets_data)"
      ],
      "execution_count": 23,
      "outputs": [
        {
          "output_type": "execute_result",
          "data": {
            "text/plain": [
              "30.481012658227847"
            ]
          },
          "metadata": {},
          "execution_count": 23
        }
      ]
    },
    {
      "cell_type": "code",
      "source": [
        ""
      ],
      "metadata": {
        "id": "v4bHTi6mEjHQ"
      },
      "execution_count": null,
      "outputs": []
    },
    {
      "cell_type": "code",
      "metadata": {
        "colab": {
          "base_uri": "https://localhost:8080/"
        },
        "id": "JJjvIs8BKlIy",
        "outputId": "f8f03032-8675-4804-baab-0b5b8157c21e"
      },
      "source": [
        "# The variables below represent the percentages of democratic votes in Pennsylvania and Ohio (one value for each state).\n",
        "dem_share_PA = [60.08, 40.64, 36.07, 41.21, 31.04, 43.78, 44.08, 46.85, 44.71, 46.15, 63.10, 52.20, 43.18, 40.24, 39.92, 47.87, 37.77, 40.11, 49.85, 48.61, 38.62, 54.25, 34.84, 47.75, 43.82, 55.97, 58.23, 42.97, 42.38, 36.11, 37.53, 42.65, 50.96, 47.43, 56.24, 45.60, 46.39, 35.22, 48.56, 32.97, 57.88, 36.05, 37.72, 50.36, 32.12, 41.55, 54.66, 57.81, 54.58, 32.88, 54.37, 40.45, 47.61, 60.49, 43.11, 27.32, 44.03, 33.56, 37.26, 54.64, 43.12, 25.34, 49.79, 83.56, 40.09, 60.81, 49.81]\n",
        "dem_share_OH = [56.94, 50.46, 65.99, 45.88, 42.23, 45.26, 57.01, 53.61, 59.10, 61.48, 43.43, 44.69, 54.59, 48.36, 45.89, 48.62, 43.92, 38.23, 28.79, 63.57, 38.07, 40.18, 43.05, 41.56, 42.49, 36.06, 52.76, 46.07, 39.43, 39.26, 47.47, 27.92, 38.01, 45.45, 29.07, 28.94, 51.28, 50.10, 39.84, 36.43, 35.71, 31.47, 47.01, 40.10, 48.76, 31.56, 39.86, 45.31, 35.47, 51.38, 46.33, 48.73, 41.77, 41.32, 48.46, 53.14, 34.01, 54.74, 40.67, 38.96, 46.29, 38.25, 6.80, 31.75, 46.33, 44.90, 33.57, 38.10, 39.67, 40.47, 49.44, 37.62, 36.71, 46.73, 42.20, 53.16, 52.40, 58.36, 68.02, 38.53, 34.58, 69.64, 60.50, 53.53, 36.54, 49.58, 41.97, 38.11]\n",
        "\n",
        "print('PA NO:', len(dem_share_PA))\n",
        "print('OH NO:', len(dem_share_OH))"
      ],
      "execution_count": 24,
      "outputs": [
        {
          "output_type": "stream",
          "name": "stdout",
          "text": [
            "PA NO: 67\n",
            "OH NO: 88\n"
          ]
        }
      ]
    },
    {
      "cell_type": "code",
      "source": [
        ""
      ],
      "metadata": {
        "id": "jRdrc6iIEoGT"
      },
      "execution_count": null,
      "outputs": []
    },
    {
      "cell_type": "code",
      "metadata": {
        "colab": {
          "base_uri": "https://localhost:8080/"
        },
        "id": "zJZ0-kpBLkBh",
        "outputId": "eb4c3a6a-6c21-436b-f731-99f48aceb65f"
      },
      "source": [
        "bootstrap_mean_ci(dem_share_OH, len(dem_share_OH), 25000, 90)"
      ],
      "execution_count": 25,
      "outputs": [
        {
          "output_type": "execute_result",
          "data": {
            "text/plain": [
              "(44.30513331363639, 42.567488636363635, 46.033534090909086)"
            ]
          },
          "metadata": {},
          "execution_count": 25
        }
      ]
    },
    {
      "cell_type": "code",
      "source": [
        ""
      ],
      "metadata": {
        "id": "Gw36rrFxFAUH"
      },
      "execution_count": null,
      "outputs": []
    },
    {
      "cell_type": "code",
      "metadata": {
        "colab": {
          "base_uri": "https://localhost:8080/"
        },
        "id": "oUpLep_eMDVa",
        "outputId": "d3985d84-5a67-419d-c75b-62a3cf50beb3"
      },
      "source": [
        "bootstrap_mean_ci(dem_share_PA, len(dem_share_PA), 25000, 90)"
      ],
      "execution_count": 26,
      "outputs": [
        {
          "output_type": "execute_result",
          "data": {
            "text/plain": [
              "(45.47398621492535, 43.55113432835821, 47.464932835820896)"
            ]
          },
          "metadata": {},
          "execution_count": 26
        }
      ]
    },
    {
      "cell_type": "code",
      "metadata": {
        "colab": {
          "base_uri": "https://localhost:8080/"
        },
        "id": "0g9PZQoavekd",
        "outputId": "53ef881e-c736-42b7-98d9-4981a0c80f36"
      },
      "source": [
        "bootstrap_mean_ci(customers_data, customers_data.shape[0], 10000, 90) #return data_mean, lower, upper \n",
        "# the new one is on the right\n"
      ],
      "execution_count": 30,
      "outputs": [
        {
          "output_type": "execute_result",
          "data": {
            "text/plain": [
              "(9.224835714285714, 6.857142857142857, 11.857142857142858)"
            ]
          },
          "metadata": {},
          "execution_count": 30
        }
      ]
    },
    {
      "cell_type": "code",
      "source": [
        ""
      ],
      "metadata": {
        "id": "euLa38Z6BV2k"
      },
      "execution_count": null,
      "outputs": []
    },
    {
      "cell_type": "code",
      "metadata": {
        "colab": {
          "base_uri": "https://localhost:8080/"
        },
        "id": "GLk-qV5RzGT7",
        "outputId": "e0548692-8f2c-45ba-83d7-76d245528f34"
      },
      "source": [
        "bootstrap_mean_ci(new_fleets_data, new_fleets_data.shape[0], 10000, 95)"
      ],
      "execution_count": 29,
      "outputs": [
        {
          "output_type": "execute_result",
          "data": {
            "text/plain": [
              "(30.481793670886077, 29.151898734177216, 31.848101265822784)"
            ]
          },
          "metadata": {},
          "execution_count": 29
        }
      ]
    },
    {
      "cell_type": "code",
      "metadata": {
        "id": "PHVRWQnOwb2d",
        "outputId": "381a54f8-802e-4399-fc99-cb9a156491b9",
        "colab": {
          "base_uri": "https://localhost:8080/"
        }
      },
      "source": [
        "bootstrap_mean_ci(current_fleets_data, current_fleets_data.shape[0], 10000, 80)"
      ],
      "execution_count": 16,
      "outputs": [
        {
          "output_type": "execute_result",
          "data": {
            "text/plain": [
              "(20.143208032128513, 19.626506024096386, 20.65863453815261)"
            ]
          },
          "metadata": {},
          "execution_count": 16
        }
      ]
    },
    {
      "cell_type": "code",
      "source": [
        ""
      ],
      "metadata": {
        "id": "0Ge7BkmmCDxJ"
      },
      "execution_count": null,
      "outputs": []
    },
    {
      "cell_type": "code",
      "metadata": {
        "colab": {
          "base_uri": "https://localhost:8080/"
        },
        "id": "1H1jb8FJzA8r",
        "outputId": "28dcfe26-c519-426e-afe4-849ea463547c"
      },
      "source": [
        "bootstrap_std_ci(current_fleets_data, current_fleets_data.shape[0], 10000, 99)"
      ],
      "execution_count": 17,
      "outputs": [
        {
          "output_type": "execute_result",
          "data": {
            "text/plain": [
              "(6.398696029555063, 5.613987571156988, 7.112640405717528)"
            ]
          },
          "metadata": {},
          "execution_count": 17
        }
      ]
    },
    {
      "cell_type": "code",
      "source": [
        ""
      ],
      "metadata": {
        "id": "9iieXdDgCTA_"
      },
      "execution_count": null,
      "outputs": []
    },
    {
      "cell_type": "code",
      "metadata": {
        "colab": {
          "base_uri": "https://localhost:8080/"
        },
        "outputId": "4b1204ef-2d7a-437a-97a4-2f2409232a4c",
        "id": "N5HIr4SfCV_2"
      },
      "source": [
        "bootstrap_std_ci(customers_data, customers_data.shape[0], 10000, 85) #return data_mean, lower, upper \n",
        "# the new one is on the right\n"
      ],
      "execution_count": 19,
      "outputs": [
        {
          "output_type": "execute_result",
          "data": {
            "text/plain": [
              "(5.69272181412461, 3.2888184094918107, 6.935563482250489)"
            ]
          },
          "metadata": {},
          "execution_count": 19
        }
      ]
    },
    {
      "cell_type": "code",
      "source": [
        ""
      ],
      "metadata": {
        "id": "QFpNHFtHHm5B"
      },
      "execution_count": null,
      "outputs": []
    },
    {
      "cell_type": "code",
      "metadata": {
        "colab": {
          "base_uri": "https://localhost:8080/"
        },
        "outputId": "c0e01eca-9663-4b17-e432-fc7851f9b03c",
        "id": "3CRsYezjHnjQ"
      },
      "source": [
        "bootstrap_std_ci(new_fleets_data, new_fleets_data.shape[0], 10000, 95)"
      ],
      "execution_count": 31,
      "outputs": [
        {
          "output_type": "execute_result",
          "data": {
            "text/plain": [
              "(6.067421812467548, 5.150075097828194, 6.915388096838677)"
            ]
          },
          "metadata": {},
          "execution_count": 31
        }
      ]
    },
    {
      "cell_type": "code",
      "metadata": {
        "id": "MkxvDZG4HC0n"
      },
      "source": [
        "# Create your own function for a permutation test here (you will need it for the lab quiz!):\n",
        "def permut_test(sample1, sample2, n_permutations):\n",
        "    \"\"\"\n",
        "    sample1: 1D array\n",
        "    sample2: 1D array (note that the size of the two arrays can be different)\n",
        "    n_permutations: number of permutations to calculate the p-value\n",
        "    \"\"\"\n",
        "    return pvalue"
      ],
      "execution_count": null,
      "outputs": []
    }
  ]
}