{
  "nbformat": 4,
  "nbformat_minor": 0,
  "metadata": {
    "colab": {
      "name": "Neuralnetworkdataset.ipynb",
      "provenance": [],
      "authorship_tag": "ABX9TyNUcarsC0+AzOvLbQgg+xQm",
      "include_colab_link": true
    },
    "kernelspec": {
      "name": "python3",
      "display_name": "Python 3"
    },
    "language_info": {
      "name": "python"
    }
  },
  "cells": [
    {
      "cell_type": "markdown",
      "metadata": {
        "id": "view-in-github",
        "colab_type": "text"
      },
      "source": [
        "<a href=\"https://colab.research.google.com/github/Tamanna1991/neural-networks/blob/main/Neuralnetworkdataset.ipynb\" target=\"_parent\"><img src=\"https://colab.research.google.com/assets/colab-badge.svg\" alt=\"Open In Colab\"/></a>"
      ]
    },
    {
      "cell_type": "code",
      "execution_count": 1,
      "metadata": {
        "id": "_J301LyReLRa"
      },
      "outputs": [],
      "source": [
        "import numpy as np\n",
        "import pandas as pd\n",
        "import scipy.io as io"
      ]
    },
    {
      "cell_type": "code",
      "source": [
        "data= io.loadmat('WLDataCW.mat')  #import the data"
      ],
      "metadata": {
        "id": "wkgE0-Nvejq6"
      },
      "execution_count": 5,
      "outputs": []
    },
    {
      "cell_type": "code",
      "source": [
        "print('the length:'+str(len(data))) #check the number of keys"
      ],
      "metadata": {
        "colab": {
          "base_uri": "https://localhost:8080/"
        },
        "id": "AvZ0HrdbezLb",
        "outputId": "594c1a87-dc0a-4cc1-836d-d51f66bfb425"
      },
      "execution_count": 6,
      "outputs": [
        {
          "output_type": "stream",
          "name": "stdout",
          "text": [
            "the length:5\n"
          ]
        }
      ]
    },
    {
      "cell_type": "code",
      "source": [
        "print(data.keys()) # show the name of keys\n"
      ],
      "metadata": {
        "colab": {
          "base_uri": "https://localhost:8080/"
        },
        "id": "ZR_1_rwHf93P",
        "outputId": "9f9224f9-8932-4f45-dc08-279b20fbfabf"
      },
      "execution_count": 7,
      "outputs": [
        {
          "output_type": "stream",
          "name": "stdout",
          "text": [
            "dict_keys(['__header__', '__version__', '__globals__', 'data', 'label'])\n"
          ]
        }
      ]
    },
    {
      "cell_type": "code",
      "source": [
        "print(data['__globals__'])"
      ],
      "metadata": {
        "colab": {
          "base_uri": "https://localhost:8080/"
        },
        "id": "c5cKDDrQgFlN",
        "outputId": "02366d5e-3abe-4e7f-d998-d9515bdc453a"
      },
      "execution_count": 8,
      "outputs": [
        {
          "output_type": "stream",
          "name": "stdout",
          "text": [
            "[]\n"
          ]
        }
      ]
    },
    {
      "cell_type": "code",
      "source": [
        "data_only=data[\"data\"] #assign data to new varibale"
      ],
      "metadata": {
        "id": "HsqC64wjgPEm"
      },
      "execution_count": 9,
      "outputs": []
    },
    {
      "cell_type": "code",
      "source": [
        "label=data[\"label\"] #assign the label to new varibale"
      ],
      "metadata": {
        "id": "m1rKq_fagXSH"
      },
      "execution_count": 10,
      "outputs": []
    },
    {
      "cell_type": "code",
      "source": [
        "print(data_only.shape) #check the dimension of data"
      ],
      "metadata": {
        "colab": {
          "base_uri": "https://localhost:8080/"
        },
        "id": "Kh3ZfO4BgkVZ",
        "outputId": "de82e3c7-55b6-43c2-a3c5-40bdcd74f72d"
      },
      "execution_count": 11,
      "outputs": [
        {
          "output_type": "stream",
          "name": "stdout",
          "text": [
            "(62, 512, 360)\n"
          ]
        }
      ]
    },
    {
      "cell_type": "code",
      "source": [
        "print(label.shape)  #check the dimension of label"
      ],
      "metadata": {
        "colab": {
          "base_uri": "https://localhost:8080/"
        },
        "id": "iQdkTuXSgtTZ",
        "outputId": "573cb98b-1aae-4bbf-a2a9-33567a901c6e"
      },
      "execution_count": 12,
      "outputs": [
        {
          "output_type": "stream",
          "name": "stdout",
          "text": [
            "(1, 360)\n"
          ]
        }
      ]
    }
  ]
}