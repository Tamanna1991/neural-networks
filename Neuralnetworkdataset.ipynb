{
  "nbformat": 4,
  "nbformat_minor": 0,
  "metadata": {
    "colab": {
      "name": "Neuralnetworkdataset.ipynb",
      "provenance": [],
      "authorship_tag": "ABX9TyP08r8Nsa1finVBvk892edk",
      "include_colab_link": true
    },
    "kernelspec": {
      "name": "python3",
      "display_name": "Python 3"
    },
    "language_info": {
      "name": "python"
    }
  },
  "cells": [
    {
      "cell_type": "markdown",
      "metadata": {
        "id": "view-in-github",
        "colab_type": "text"
      },
      "source": [
        "<a href=\"https://colab.research.google.com/github/Tamanna1991/neural-networks/blob/main/Neuralnetworkdataset.ipynb\" target=\"_parent\"><img src=\"https://colab.research.google.com/assets/colab-badge.svg\" alt=\"Open In Colab\"/></a>"
      ]
    },
    {
      "cell_type": "code",
      "execution_count": 7,
      "metadata": {
        "id": "_J301LyReLRa"
      },
      "outputs": [],
      "source": [
        "import numpy as np\n",
        "import pandas as pd\n",
        "import scipy.io as io"
      ]
    },
    {
      "cell_type": "code",
      "source": [
        "data= io.loadmat('/content/WLDataCW.mat')  #import the data"
      ],
      "metadata": {
        "id": "wkgE0-Nvejq6"
      },
      "execution_count": 19,
      "outputs": []
    },
    {
      "cell_type": "code",
      "source": [
        "print('the length:'+str(len(data))) #check the number of keys"
      ],
      "metadata": {
        "colab": {
          "base_uri": "https://localhost:8080/"
        },
        "id": "AvZ0HrdbezLb",
        "outputId": "d2aa7a00-fb45-4e99-8447-8996c2aa206a"
      },
      "execution_count": 20,
      "outputs": [
        {
          "output_type": "stream",
          "name": "stdout",
          "text": [
            "the length:5\n"
          ]
        }
      ]
    },
    {
      "cell_type": "code",
      "source": [
        "print(data.keys()) # show the name of keys\n"
      ],
      "metadata": {
        "colab": {
          "base_uri": "https://localhost:8080/"
        },
        "id": "ZR_1_rwHf93P",
        "outputId": "0db5f607-0cd6-448f-af71-630210f0bfa5"
      },
      "execution_count": 21,
      "outputs": [
        {
          "output_type": "stream",
          "name": "stdout",
          "text": [
            "dict_keys(['__header__', '__version__', '__globals__', 'data', 'label'])\n"
          ]
        }
      ]
    },
    {
      "cell_type": "code",
      "source": [
        "print(data['__globals__'])"
      ],
      "metadata": {
        "colab": {
          "base_uri": "https://localhost:8080/"
        },
        "id": "c5cKDDrQgFlN",
        "outputId": "8b753561-b892-4803-f367-07d917fef132"
      },
      "execution_count": 22,
      "outputs": [
        {
          "output_type": "stream",
          "name": "stdout",
          "text": [
            "[]\n"
          ]
        }
      ]
    },
    {
      "cell_type": "code",
      "source": [
        "data_only=data[\"data\"] #assign data to new varibale"
      ],
      "metadata": {
        "id": "HsqC64wjgPEm"
      },
      "execution_count": 23,
      "outputs": []
    },
    {
      "cell_type": "code",
      "source": [
        "label=data[\"label\"] #assign the label to new varibale"
      ],
      "metadata": {
        "id": "m1rKq_fagXSH"
      },
      "execution_count": 24,
      "outputs": []
    },
    {
      "cell_type": "code",
      "source": [
        "print(data_only.shape) #check the dimension of data"
      ],
      "metadata": {
        "colab": {
          "base_uri": "https://localhost:8080/"
        },
        "id": "Kh3ZfO4BgkVZ",
        "outputId": "d666569d-cc14-46ff-ab68-236aaf181e41"
      },
      "execution_count": 25,
      "outputs": [
        {
          "output_type": "stream",
          "name": "stdout",
          "text": [
            "(62, 512, 360)\n"
          ]
        }
      ]
    },
    {
      "cell_type": "code",
      "source": [
        "print(label.shape)  #check the dimension of label"
      ],
      "metadata": {
        "colab": {
          "base_uri": "https://localhost:8080/"
        },
        "id": "iQdkTuXSgtTZ",
        "outputId": "b057d708-4d1e-41d1-a6af-b6a86dcd756a"
      },
      "execution_count": 26,
      "outputs": [
        {
          "output_type": "stream",
          "name": "stdout",
          "text": [
            "(1, 360)\n"
          ]
        }
      ]
    }
  ]
}